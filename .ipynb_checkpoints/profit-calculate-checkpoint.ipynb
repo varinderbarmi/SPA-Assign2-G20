{
 "cells": [
  {
   "cell_type": "code",
   "execution_count": 1,
   "id": "6f78a800-c68f-4754-be2e-c3df677bdabf",
   "metadata": {},
   "outputs": [],
   "source": [
    "import json\n",
    "import pandas as pd\n",
    "import numpy as np\n",
    "\n",
    "from datetime import datetime, timedelta\n",
    "from kafka import KafkaConsumer"
   ]
  },
  {
   "cell_type": "code",
   "execution_count": 2,
   "id": "c984c912-3c33-467e-8a05-8f047fcb4508",
   "metadata": {},
   "outputs": [],
   "source": [
    "import warnings\n",
    "warnings.filterwarnings(\"ignore\")"
   ]
  },
  {
   "cell_type": "code",
   "execution_count": 3,
   "id": "823befec-9fe7-45c0-b68c-fffbe5de97da",
   "metadata": {},
   "outputs": [],
   "source": [
    "# Kafka consumer configuration for topic profit-calculate\n",
    "sma_profit_consumer = KafkaConsumer(\"profit-calculate\", bootstrap_servers=[\"localhost:9094\"], value_deserializer=lambda x: json.loads(x.decode(\"utf-8\")))\n"
   ]
  },
  {
   "cell_type": "code",
   "execution_count": 4,
   "id": "1de64284-a1aa-4488-a198-f0f314c6942d",
   "metadata": {},
   "outputs": [],
   "source": [
    "AAPL_list = [130]\n",
    "GOOG_list = [1500]\n",
    "TSLA_list = [800]\n",
    "AMZN_list = [3200]\n",
    "FB_list = [250]\n",
    "time_list = [datetime.now()]"
   ]
  },
  {
   "cell_type": "code",
   "execution_count": null,
   "id": "53436720-df3b-411f-b3eb-a4cb9a076372",
   "metadata": {},
   "outputs": [
    {
     "name": "stdout",
     "output_type": "stream",
     "text": [
      "\n",
      "At 2023-03-12 19:36:40.805890 \n",
      "Most profitable stock is TSLA at profit of $ 94.82\n",
      "\n",
      "At 2023-03-12 19:41:43.412302 \n",
      "Most profitable stock is AMZN at profit of $ 42.74\n",
      "\n",
      "At 2023-03-12 19:46:44.255681 \n",
      "Most profitable stock is AMZN at profit of $ 36.87\n",
      "\n",
      "At 2023-03-12 19:51:44.473010 \n",
      "Most profitable stock is AAPL at profit of $ 2.21\n"
     ]
    }
   ],
   "source": [
    "for count, msg in enumerate(sma_profit_consumer):\n",
    "    #print(msg.value[\"AAPL\"])\n",
    "    #print(msg.value[\"GOOG\"])\n",
    "    #print(msg.value[\"TSLA\"])\n",
    "    #print(msg.value[\"AMZN\"])\n",
    "    #print(msg.value[\"FB\"])\n",
    "    #print(msg.value[\"time\"])\n",
    "    \n",
    "    AAPL_list.append(round(float(msg.value[\"AAPL\"]),2))\n",
    "    GOOG_list.append(round(float(msg.value[\"GOOG\"]),2))\n",
    "    TSLA_list.append(round(float(msg.value[\"TSLA\"]),2))\n",
    "    AMZN_list.append(round(float(msg.value[\"AMZN\"]),2))\n",
    "    FB_list.append(round(float(msg.value[\"FB\"]),2))\n",
    "    time_list.append(msg.value[\"time\"])\n",
    "                     \n",
    "    df = pd.DataFrame({\n",
    "        'AAPL': AAPL_list,\n",
    "        'GOOG': GOOG_list,\n",
    "        'TSLA': TSLA_list,\n",
    "        'AMZN': AMZN_list,\n",
    "        'FB': FB_list,\n",
    "        'time': time_list\n",
    "        })\n",
    "    \n",
    "    #display(df)\n",
    "    df = df.tail(2)\n",
    "    #display(df)\n",
    "    \n",
    "    df[\"diff_AAPL\"] = round(df[\"AAPL\"].diff(), 2)\n",
    "    df[\"diff_GOOG\"] = round(df[\"GOOG\"].diff(), 2)\n",
    "    df[\"diff_TSLA\"] = round(df[\"TSLA\"].diff(), 2)\n",
    "    df[\"diff_AMZN\"] = round(df[\"AMZN\"].diff(), 2)\n",
    "    df[\"diff_FB\"] = round(df[\"FB\"].diff(), 2)\n",
    "    \n",
    "    diff_row = df.tail(1)\n",
    "    #display(diff_row)\n",
    "    timing = diff_row[\"time\"].to_string(index = False)\n",
    "    \n",
    "    diff_row = diff_row[[\"diff_AAPL\" ,\"diff_GOOG\",\"diff_TSLA\",\"diff_AMZN\",\"diff_FB\"]]\n",
    "    \n",
    "    array = np.array(diff_row.to_numpy()[0]) \n",
    "    #print(array)\n",
    "    max = round(array.max(), 2)\n",
    "    #print(max)\n",
    "    \n",
    "    for i in range(array.size):\n",
    "        #print(i)\n",
    "        #print(array[i])\n",
    "        #print(float(round(array[i], 2)) == float(max))\n",
    "        if (float(round(array[i], 2)) == float(max) and float(max) > 0):\n",
    "            if i == 0:\n",
    "                print(\"\\nAt\",timing,\"\\nMost profitable stock is AAPL at profit of $\",max)\n",
    "                break\n",
    "            elif i == 1:\n",
    "                print(\"\\nAt\",timing,\"\\nMost profitable stock is GOOG at profit of $\",max)\n",
    "                break\n",
    "            elif i == 2:\n",
    "                print(\"\\nAt\",timing,\"\\nMost profitable stock is TSLA at profit of $\",max)\n",
    "                break\n",
    "            elif i == 3:\n",
    "                print(\"\\nAt\",timing,\"\\nMost profitable stock is AMZN at profit of $\",max)\n",
    "                break\n",
    "            elif i == 4:\n",
    "                print(\"\\nAt\",timing,\"\\nMost profitable stock is FB at profit of $\",max)\n",
    "                break\n",
    "    \n",
    "\n"
   ]
  },
  {
   "cell_type": "code",
   "execution_count": null,
   "id": "1a515b45-7394-4344-b375-aef940179147",
   "metadata": {},
   "outputs": [],
   "source": []
  }
 ],
 "metadata": {
  "kernelspec": {
   "display_name": "Python 3 (ipykernel)",
   "language": "python",
   "name": "python3"
  },
  "language_info": {
   "codemirror_mode": {
    "name": "ipython",
    "version": 3
   },
   "file_extension": ".py",
   "mimetype": "text/x-python",
   "name": "python",
   "nbconvert_exporter": "python",
   "pygments_lexer": "ipython3",
   "version": "3.8.13"
  }
 },
 "nbformat": 4,
 "nbformat_minor": 5
}
