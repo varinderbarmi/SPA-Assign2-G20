{
 "cells": [
  {
   "cell_type": "code",
   "execution_count": 1,
   "id": "d13bbfd9-7477-4661-b4a3-c318baddbaf6",
   "metadata": {},
   "outputs": [],
   "source": [
    "import json\n",
    "from time import sleep\n",
    "from datetime import datetime, timedelta\n",
    "from kafka import KafkaProducer\n"
   ]
  },
  {
   "cell_type": "code",
   "execution_count": 2,
   "id": "21539102-553f-41bc-b2ae-b6372d97e9c9",
   "metadata": {},
   "outputs": [],
   "source": [
    "# List of available instruments on the exchange\n",
    "instruments = [\n",
    "    {\"symbol\": \"AAPL\", \"name\": \"Apple Inc.\", \"price\": 130.00},\n",
    "    {\"symbol\": \"GOOG\", \"name\": \"Alphabet Inc.\", \"price\": 1500.00},\n",
    "    {\"symbol\": \"TSLA\", \"name\": \"Tesla Inc.\", \"price\": 800.00},\n",
    "    {\"symbol\": \"AMZN\", \"name\": \"Amazon.com Inc.\", \"price\": 3200.00},\n",
    "    {\"symbol\": \"FB\", \"name\": \"Facebook Inc.\", \"price\": 250.00}\n",
    "]"
   ]
  },
  {
   "cell_type": "code",
   "execution_count": 3,
   "id": "2d270373-03d6-43b1-9e79-803e12452437",
   "metadata": {},
   "outputs": [],
   "source": [
    "# Kafka producer configuration for topic stock-market\n",
    "producer = KafkaProducer(bootstrap_servers=[\"localhost:9092\"], value_serializer=lambda x: json.dumps(x).encode(\"utf-8\"))\n"
   ]
  },
  {
   "cell_type": "code",
   "execution_count": 4,
   "id": "92c82fd1-bec9-4bd7-ab4a-259a77c3982b",
   "metadata": {},
   "outputs": [],
   "source": [
    "\n",
    "# Function to place an order\n",
    "def place_order(instrument, action, price, quantity, valid_until):\n",
    "    order = {\n",
    "        \"instrument\": instrument,\n",
    "        \"action\": action,\n",
    "        \"price\": price,\n",
    "        \"quantity\": quantity,\n",
    "        \"valid_until\": valid_until.isoformat()\n",
    "    }\n",
    "    producer.send(\"stock-market\", value=order)\n",
    "    print(f\"\\nOrder placed: {order}\\n\")\n"
   ]
  },
  {
   "cell_type": "code",
   "execution_count": null,
   "id": "d665bad5-8cb4-4daa-b6b3-e1c2d0d63042",
   "metadata": {},
   "outputs": [
    {
     "name": "stdout",
     "output_type": "stream",
     "text": [
      "Available instruments:\n",
      "-----------------------\n",
      "0. Symbol: AAPL, Name: Apple Inc., Price: 130.0\n",
      "1. Symbol: GOOG, Name: Alphabet Inc., Price: 1500.0\n",
      "2. Symbol: TSLA, Name: Tesla Inc., Price: 800.0\n",
      "3. Symbol: AMZN, Name: Amazon.com Inc., Price: 3200.0\n",
      "4. Symbol: FB, Name: Facebook Inc., Price: 250.0\n",
      "-----------------------------------------------\n"
     ]
    },
    {
     "name": "stdin",
     "output_type": "stream",
     "text": [
      "Select an instrument:  0\n",
      "Enter action (BUY/SELL):  buy\n",
      "Enter price:  140\n",
      "Enter quantity:  1\n"
     ]
    },
    {
     "name": "stdout",
     "output_type": "stream",
     "text": [
      "\n",
      "Order placed: {'instrument': 'AAPL', 'action': 'BUY', 'price': 140.0, 'quantity': 1, 'valid_until': '2023-03-12T18:52:38.813123'}\n",
      "\n",
      "Available instruments:\n",
      "-----------------------\n",
      "0. Symbol: AAPL, Name: Apple Inc., Price: 130.0\n",
      "1. Symbol: GOOG, Name: Alphabet Inc., Price: 1500.0\n",
      "2. Symbol: TSLA, Name: Tesla Inc., Price: 800.0\n",
      "3. Symbol: AMZN, Name: Amazon.com Inc., Price: 3200.0\n",
      "4. Symbol: FB, Name: Facebook Inc., Price: 250.0\n",
      "-----------------------------------------------\n"
     ]
    },
    {
     "name": "stdin",
     "output_type": "stream",
     "text": [
      "Select an instrument:  0\n",
      "Enter action (BUY/SELL):  sell\n",
      "Enter price:  140\n",
      "Enter quantity:  1\n"
     ]
    },
    {
     "name": "stdout",
     "output_type": "stream",
     "text": [
      "\n",
      "Order placed: {'instrument': 'AAPL', 'action': 'SELL', 'price': 140.0, 'quantity': 1, 'valid_until': '2023-03-12T18:53:19.646998'}\n",
      "\n",
      "Available instruments:\n",
      "-----------------------\n",
      "0. Symbol: AAPL, Name: Apple Inc., Price: 130.0\n",
      "1. Symbol: GOOG, Name: Alphabet Inc., Price: 1500.0\n",
      "2. Symbol: TSLA, Name: Tesla Inc., Price: 800.0\n",
      "3. Symbol: AMZN, Name: Amazon.com Inc., Price: 3200.0\n",
      "4. Symbol: FB, Name: Facebook Inc., Price: 250.0\n",
      "-----------------------------------------------\n",
      "\n",
      "An exception occurred. Please try.\n",
      "\n",
      "\n",
      "Available instruments:\n",
      "-----------------------\n",
      "0. Symbol: AAPL, Name: Apple Inc., Price: 130.0\n",
      "1. Symbol: GOOG, Name: Alphabet Inc., Price: 1500.0\n",
      "2. Symbol: TSLA, Name: Tesla Inc., Price: 800.0\n",
      "3. Symbol: AMZN, Name: Amazon.com Inc., Price: 3200.0\n",
      "4. Symbol: FB, Name: Facebook Inc., Price: 250.0\n",
      "-----------------------------------------------\n"
     ]
    }
   ],
   "source": [
    "\n",
    "# Example of order placement\n",
    "while True:\n",
    "    try:\n",
    "        print(\"Available instruments:\\n-----------------------\")\n",
    "        for i, instrument in enumerate(instruments):\n",
    "            print(f\"{i}. Symbol: {instrument['symbol']}, Name: {instrument['name']}, Price: {instrument['price']}\")\n",
    "\n",
    "        print(\"-----------------------------------------------\")\n",
    "\n",
    "        selected_instrument = int(input(\"Select an instrument: \"))\n",
    "        selected_action = input(\"Enter action (BUY/SELL): \").upper()\n",
    "        selected_price = float(input(\"Enter price: \"))\n",
    "        selected_quantity = int(input(\"Enter quantity: \"))\n",
    "        selected_valid_until = datetime.now() + timedelta(minutes=2)\n",
    "\n",
    "        place_order(\n",
    "            instruments[selected_instrument][\"symbol\"],\n",
    "            selected_action,\n",
    "            selected_price,\n",
    "            selected_quantity,\n",
    "            selected_valid_until\n",
    "        )\n",
    "\n",
    "        sleep(1)\n",
    "    except:\n",
    "        print(\"\\nAn exception occurred. Please try.\\n\\n\")\n"
   ]
  },
  {
   "cell_type": "code",
   "execution_count": null,
   "id": "f30856bc-b982-4ee3-b37a-860f1f2386ba",
   "metadata": {},
   "outputs": [],
   "source": []
  }
 ],
 "metadata": {
  "kernelspec": {
   "display_name": "Python 3 (ipykernel)",
   "language": "python",
   "name": "python3"
  },
  "language_info": {
   "codemirror_mode": {
    "name": "ipython",
    "version": 3
   },
   "file_extension": ".py",
   "mimetype": "text/x-python",
   "name": "python",
   "nbconvert_exporter": "python",
   "pygments_lexer": "ipython3",
   "version": "3.8.13"
  }
 },
 "nbformat": 4,
 "nbformat_minor": 5
}
