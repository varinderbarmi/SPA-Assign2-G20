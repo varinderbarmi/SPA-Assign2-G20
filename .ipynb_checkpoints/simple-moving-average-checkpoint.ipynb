{
 "cells": [
  {
   "cell_type": "code",
   "execution_count": 1,
   "id": "05d31b53-f7f3-4eff-9a11-4332d443ae9d",
   "metadata": {},
   "outputs": [],
   "source": [
    "import json\n",
    "import pandas as pd\n",
    "import numpy as np\n",
    "import math\n",
    "\n",
    "from datetime import datetime, timedelta\n",
    "from kafka import KafkaConsumer, KafkaProducer"
   ]
  },
  {
   "cell_type": "code",
   "execution_count": 2,
   "id": "388410ac-302e-452c-9c6a-17cedef2e5ac",
   "metadata": {},
   "outputs": [],
   "source": [
    "\n",
    "# Kafka consumer configuration for topic simple-moving-average\n",
    "sma_consumer = KafkaConsumer(\"simple-moving-average\", bootstrap_servers=[\"localhost:9093\"], value_deserializer=lambda x: json.loads(x.decode(\"utf-8\")))\n"
   ]
  },
  {
   "cell_type": "code",
   "execution_count": 3,
   "id": "5e8bf477-7398-4957-92c0-371c1a53d526",
   "metadata": {},
   "outputs": [],
   "source": [
    "\n",
    "# Kafka producer configuration for topic sma\n",
    "producer = KafkaProducer(bootstrap_servers=[\"localhost:9094\"], value_serializer=lambda x: json.dumps(x).encode(\"utf-8\"))\n"
   ]
  },
  {
   "cell_type": "code",
   "execution_count": 4,
   "id": "26d343e8-8f61-45ba-ae75-8a5609ca90f6",
   "metadata": {},
   "outputs": [],
   "source": [
    "AAPL = pd.DataFrame(columns = ['time','cost'] )\n",
    "GOOG = pd.DataFrame(columns = ['time','cost'] )\n",
    "TSLA = pd.DataFrame(columns = ['time','cost'] )\n",
    "AMZN = pd.DataFrame(columns = ['time','cost'] )\n",
    "FB = pd.DataFrame(columns = ['time','cost'] )"
   ]
  },
  {
   "cell_type": "code",
   "execution_count": 5,
   "id": "dc1a325c-d7c7-46fd-9cda-52a64ba6825e",
   "metadata": {},
   "outputs": [],
   "source": [
    "AAPL_sma_pd = pd.DataFrame(columns = ['time','cost'] )\n",
    "GOOG_sma_pd = pd.DataFrame(columns = ['time','cost'] )\n",
    "TSLA_sma_pd = pd.DataFrame(columns = ['time','cost'] )\n",
    "AMZN_sma_pd = pd.DataFrame(columns = ['time','cost'] )\n",
    "FB_sma_pd = pd.DataFrame(columns = ['time','cost'] )"
   ]
  },
  {
   "cell_type": "code",
   "execution_count": 6,
   "id": "6fccb9f8-364a-46ec-a6b2-7f0543c9f6c6",
   "metadata": {},
   "outputs": [],
   "source": [
    "def print_sma(AAPL_sma, GOOG_sma, TSLA_sma, AMZN_sma, FB_sma):\n",
    "    print(\"\\n\\n\\nAt \", datetime.now())\n",
    "    print(\"\\n-----------------------------------------------------\\nSimple Moving Average of instruments are as follows: \\n---------------------------------------------------\")\n",
    "    \n",
    "    #print(\"AAPL \", \"GOOG \", \"TSLA \", \"AMZN \", \"FB \")\n",
    "    #print(round(AAPL_sma, 2), \" \" ,round(GOOG_sma, 2), \" \" ,round(TSLA_sma,2) , \" \" ,round(AMZN_sma, 2), \" \" , round(FB_sma, 2) )\n",
    "    #print(\"-----------------------------------------------------\\n\")\n",
    "    df = pd.DataFrame({\n",
    "        'AAPL': [round(AAPL_sma, 2)],\n",
    "        'GOOG': [round(GOOG_sma, 2)],\n",
    "        'TSLA': [round(TSLA_sma,2)],\n",
    "        'AMZN': [round(AMZN_sma,2)],\n",
    "        'FB': [round(FB_sma,2)]\n",
    "        })\n",
    "    display(df)\n",
    "    print(\"-----------------------------------------------------\\n\")\n",
    "    \n"
   ]
  },
  {
   "cell_type": "code",
   "execution_count": 7,
   "id": "245300fe-5b0f-4417-b6ae-aed0d23f4551",
   "metadata": {},
   "outputs": [],
   "source": [
    "min_5_window = datetime.now()\n",
    "min_10_window = datetime.now()"
   ]
  },
  {
   "cell_type": "code",
   "execution_count": 8,
   "id": "e802ec5e-2ea0-4aea-a4f7-6d666e186e5d",
   "metadata": {},
   "outputs": [],
   "source": [
    "length = {\"AAPL\": 1, \"GOOG\": 1, \"TSLA\":1, \"AMZN\": 1, \"FB\":1}"
   ]
  },
  {
   "cell_type": "code",
   "execution_count": 9,
   "id": "753a9280-df2b-4acd-b20f-424f6467fbf5",
   "metadata": {},
   "outputs": [],
   "source": [
    "# Send completed sma price after for all the intruments\n",
    "def sma_price(apple, google, tesla, amazon, facebook):\n",
    "    sma_price_row = {\n",
    "        \"AAPL\": round(apple,2),\n",
    "        \"GOOG\": round(google,2),\n",
    "        \"TSLA\": round(tesla,2),\n",
    "        \"AMZN\": round(amazon,2),\n",
    "        \"FB\": round(facebook,2),\n",
    "        \"time\": datetime.now().isoformat()\n",
    "    }\n",
    "    producer.send(\"profit-calculate\", value=sma_price_row)\n",
    "    print(f\"Message sent to topic -> profit-calculate :\\n---------------------------------------------\\n{sma_price_row}\")\n",
    "    print(\"---------------------------------------------\\n\")\n"
   ]
  },
  {
   "cell_type": "code",
   "execution_count": null,
   "id": "91dd8fe3-bd5e-4955-b20d-ae93b67b7cb1",
   "metadata": {},
   "outputs": [
    {
     "name": "stdout",
     "output_type": "stream",
     "text": [
      "\n",
      "\n",
      "\n",
      "At  2023-03-12 19:36:40.773621\n",
      "\n",
      "-----------------------------------------------------\n",
      "Simple Moving Average of instruments are as follows: \n",
      "---------------------------------------------------\n"
     ]
    },
    {
     "data": {
      "text/html": [
       "<div>\n",
       "<style scoped>\n",
       "    .dataframe tbody tr th:only-of-type {\n",
       "        vertical-align: middle;\n",
       "    }\n",
       "\n",
       "    .dataframe tbody tr th {\n",
       "        vertical-align: top;\n",
       "    }\n",
       "\n",
       "    .dataframe thead th {\n",
       "        text-align: right;\n",
       "    }\n",
       "</style>\n",
       "<table border=\"1\" class=\"dataframe\">\n",
       "  <thead>\n",
       "    <tr style=\"text-align: right;\">\n",
       "      <th></th>\n",
       "      <th>AAPL</th>\n",
       "      <th>GOOG</th>\n",
       "      <th>TSLA</th>\n",
       "      <th>AMZN</th>\n",
       "      <th>FB</th>\n",
       "    </tr>\n",
       "  </thead>\n",
       "  <tbody>\n",
       "    <tr>\n",
       "      <th>0</th>\n",
       "      <td>140.21</td>\n",
       "      <td>1378.0</td>\n",
       "      <td>894.82</td>\n",
       "      <td>3269.12</td>\n",
       "      <td>231.58</td>\n",
       "    </tr>\n",
       "  </tbody>\n",
       "</table>\n",
       "</div>"
      ],
      "text/plain": [
       "     AAPL    GOOG    TSLA     AMZN      FB\n",
       "0  140.21  1378.0  894.82  3269.12  231.58"
      ]
     },
     "metadata": {},
     "output_type": "display_data"
    },
    {
     "name": "stdout",
     "output_type": "stream",
     "text": [
      "-----------------------------------------------------\n",
      "\n",
      "Message sent to topic -> profit-calculate :\n",
      "---------------------------------------------\n",
      "{'AAPL': 140.21, 'GOOG': 1378.0, 'TSLA': 894.82, 'AMZN': 3269.12, 'FB': 231.58, 'time': '2023-03-12T19:36:40.805890'}\n",
      "---------------------------------------------\n",
      "\n",
      "\n",
      "\n",
      "\n",
      "At  2023-03-12 19:41:43.367321\n",
      "\n",
      "-----------------------------------------------------\n",
      "Simple Moving Average of instruments are as follows: \n",
      "---------------------------------------------------\n"
     ]
    },
    {
     "data": {
      "text/html": [
       "<div>\n",
       "<style scoped>\n",
       "    .dataframe tbody tr th:only-of-type {\n",
       "        vertical-align: middle;\n",
       "    }\n",
       "\n",
       "    .dataframe tbody tr th {\n",
       "        vertical-align: top;\n",
       "    }\n",
       "\n",
       "    .dataframe thead th {\n",
       "        text-align: right;\n",
       "    }\n",
       "</style>\n",
       "<table border=\"1\" class=\"dataframe\">\n",
       "  <thead>\n",
       "    <tr style=\"text-align: right;\">\n",
       "      <th></th>\n",
       "      <th>AAPL</th>\n",
       "      <th>GOOG</th>\n",
       "      <th>TSLA</th>\n",
       "      <th>AMZN</th>\n",
       "      <th>FB</th>\n",
       "    </tr>\n",
       "  </thead>\n",
       "  <tbody>\n",
       "    <tr>\n",
       "      <th>0</th>\n",
       "      <td>142.19</td>\n",
       "      <td>1403.76</td>\n",
       "      <td>895.63</td>\n",
       "      <td>3311.86</td>\n",
       "      <td>232.44</td>\n",
       "    </tr>\n",
       "  </tbody>\n",
       "</table>\n",
       "</div>"
      ],
      "text/plain": [
       "     AAPL     GOOG    TSLA     AMZN      FB\n",
       "0  142.19  1403.76  895.63  3311.86  232.44"
      ]
     },
     "metadata": {},
     "output_type": "display_data"
    },
    {
     "name": "stdout",
     "output_type": "stream",
     "text": [
      "-----------------------------------------------------\n",
      "\n",
      "Message sent to topic -> profit-calculate :\n",
      "---------------------------------------------\n",
      "{'AAPL': 142.19, 'GOOG': 1403.76, 'TSLA': 895.63, 'AMZN': 3311.86, 'FB': 232.44, 'time': '2023-03-12T19:41:43.412302'}\n",
      "---------------------------------------------\n",
      "\n",
      "\n",
      "\n",
      "\n",
      "At  2023-03-12 19:46:44.231897\n",
      "\n",
      "-----------------------------------------------------\n",
      "Simple Moving Average of instruments are as follows: \n",
      "---------------------------------------------------\n"
     ]
    },
    {
     "data": {
      "text/html": [
       "<div>\n",
       "<style scoped>\n",
       "    .dataframe tbody tr th:only-of-type {\n",
       "        vertical-align: middle;\n",
       "    }\n",
       "\n",
       "    .dataframe tbody tr th {\n",
       "        vertical-align: top;\n",
       "    }\n",
       "\n",
       "    .dataframe thead th {\n",
       "        text-align: right;\n",
       "    }\n",
       "</style>\n",
       "<table border=\"1\" class=\"dataframe\">\n",
       "  <thead>\n",
       "    <tr style=\"text-align: right;\">\n",
       "      <th></th>\n",
       "      <th>AAPL</th>\n",
       "      <th>GOOG</th>\n",
       "      <th>TSLA</th>\n",
       "      <th>AMZN</th>\n",
       "      <th>FB</th>\n",
       "    </tr>\n",
       "  </thead>\n",
       "  <tbody>\n",
       "    <tr>\n",
       "      <th>0</th>\n",
       "      <td>145.36</td>\n",
       "      <td>1421.15</td>\n",
       "      <td>894.28</td>\n",
       "      <td>3348.73</td>\n",
       "      <td>229.02</td>\n",
       "    </tr>\n",
       "  </tbody>\n",
       "</table>\n",
       "</div>"
      ],
      "text/plain": [
       "     AAPL     GOOG    TSLA     AMZN      FB\n",
       "0  145.36  1421.15  894.28  3348.73  229.02"
      ]
     },
     "metadata": {},
     "output_type": "display_data"
    },
    {
     "name": "stdout",
     "output_type": "stream",
     "text": [
      "-----------------------------------------------------\n",
      "\n",
      "Message sent to topic -> profit-calculate :\n",
      "---------------------------------------------\n",
      "{'AAPL': 145.36, 'GOOG': 1421.15, 'TSLA': 894.28, 'AMZN': 3348.73, 'FB': 229.02, 'time': '2023-03-12T19:46:44.255681'}\n",
      "---------------------------------------------\n",
      "\n",
      "\n",
      "\n",
      "\n",
      "At  2023-03-12 19:51:44.449396\n",
      "\n",
      "-----------------------------------------------------\n",
      "Simple Moving Average of instruments are as follows: \n",
      "---------------------------------------------------\n"
     ]
    },
    {
     "data": {
      "text/html": [
       "<div>\n",
       "<style scoped>\n",
       "    .dataframe tbody tr th:only-of-type {\n",
       "        vertical-align: middle;\n",
       "    }\n",
       "\n",
       "    .dataframe tbody tr th {\n",
       "        vertical-align: top;\n",
       "    }\n",
       "\n",
       "    .dataframe thead th {\n",
       "        text-align: right;\n",
       "    }\n",
       "</style>\n",
       "<table border=\"1\" class=\"dataframe\">\n",
       "  <thead>\n",
       "    <tr style=\"text-align: right;\">\n",
       "      <th></th>\n",
       "      <th>AAPL</th>\n",
       "      <th>GOOG</th>\n",
       "      <th>TSLA</th>\n",
       "      <th>AMZN</th>\n",
       "      <th>FB</th>\n",
       "    </tr>\n",
       "  </thead>\n",
       "  <tbody>\n",
       "    <tr>\n",
       "      <th>0</th>\n",
       "      <td>147.57</td>\n",
       "      <td>1416.11</td>\n",
       "      <td>890.16</td>\n",
       "      <td>3298.0</td>\n",
       "      <td>225.56</td>\n",
       "    </tr>\n",
       "  </tbody>\n",
       "</table>\n",
       "</div>"
      ],
      "text/plain": [
       "     AAPL     GOOG    TSLA    AMZN      FB\n",
       "0  147.57  1416.11  890.16  3298.0  225.56"
      ]
     },
     "metadata": {},
     "output_type": "display_data"
    },
    {
     "name": "stdout",
     "output_type": "stream",
     "text": [
      "-----------------------------------------------------\n",
      "\n",
      "Message sent to topic -> profit-calculate :\n",
      "---------------------------------------------\n",
      "{'AAPL': 147.57, 'GOOG': 1416.11, 'TSLA': 890.16, 'AMZN': 3298.0, 'FB': 225.56, 'time': '2023-03-12T19:51:44.473010'}\n",
      "---------------------------------------------\n",
      "\n"
     ]
    }
   ],
   "source": [
    "for count, msg in enumerate(sma_consumer):\n",
    "\n",
    "    traded_price = msg.value\n",
    "    #print(\"Completed Trade Received : \", traded_price[\"instrument\"] ,\" - \", traded_price[\"cost\"],\" - \", traded_price[\"time\"])\n",
    "    if traded_price[\"instrument\"] == \"AAPL\" :\n",
    "      AAPL.loc[len(AAPL.index)] = [ traded_price[\"time\"] , traded_price[\"cost\"] ]\n",
    "      AAPL_sma_pd.loc[len(AAPL.index)] = [ traded_price[\"time\"] , traded_price[\"cost\"] ]\n",
    "      #display(AAPL_sma_pd)\n",
    "    elif traded_price[\"instrument\"] == \"GOOG\" :\n",
    "      GOOG.loc[len(GOOG.index)] = [ traded_price[\"time\"] , traded_price[\"cost\"] ]\n",
    "      GOOG_sma_pd.loc[len(GOOG.index)] = [ traded_price[\"time\"] , traded_price[\"cost\"] ]\n",
    "      #display(GOOG_sma_pd)\n",
    "    elif traded_price[\"instrument\"] == \"TSLA\" :\n",
    "      TSLA.loc[len(TSLA.index)] = [ traded_price[\"time\"] , traded_price[\"cost\"] ]\n",
    "      TSLA_sma_pd.loc[len(TSLA.index)] = [ traded_price[\"time\"] , traded_price[\"cost\"] ]\n",
    "      #display(TSLA_sma_pd)\n",
    "    elif traded_price[\"instrument\"] == \"AMZN\" :\n",
    "      AMZN.loc[len(AMZN.index)] = [ traded_price[\"time\"] , traded_price[\"cost\"] ]\n",
    "      AMZN_sma_pd.loc[len(AMZN.index)] = [ traded_price[\"time\"] , traded_price[\"cost\"] ]\n",
    "      #display(AMZN_sma_pd)\n",
    "    elif traded_price[\"instrument\"] == \"FB\" :\n",
    "      FB.loc[len(FB.index)] = [ traded_price[\"time\"] , traded_price[\"cost\"] ]\n",
    "      FB_sma_pd.loc[len(FB.index)] = [ traded_price[\"time\"] , traded_price[\"cost\"] ]\n",
    "      #display(FB_sma_pd)\n",
    "    else:\n",
    "      print(\"Instrument not recognised\")\n",
    "         \n",
    "    #print( pd.to_datetime( AAPL_sma_pd['time'] , format = '%Y-%m-%dT%H:%M:%S.%f') >= datetime.now() - timedelta(minutes=10) )\n",
    "    #print(type( pd.to_datetime( AAPL_sma_pd['time'] , format = '%Y-%m-%dT%H:%M:%S.%f') ))\n",
    "    #print(datetime.now() - timedelta(minutes=10))\n",
    "\n",
    "    AAPL_sma_pd = AAPL_sma_pd[ pd.to_datetime( AAPL_sma_pd['time'] , format = '%Y-%m-%dT%H:%M:%S.%f') >= datetime.now() - timedelta(minutes=10) ]\n",
    "    GOOG_sma_pd = GOOG_sma_pd[ pd.to_datetime( GOOG_sma_pd['time'] , format = '%Y-%m-%dT%H:%M:%S.%f') >= datetime.now() - timedelta(minutes=10) ]\n",
    "    TSLA_sma_pd = TSLA_sma_pd[ pd.to_datetime( TSLA_sma_pd['time'] , format = '%Y-%m-%dT%H:%M:%S.%f') >= datetime.now() - timedelta(minutes=10) ]\n",
    "    AMZN_sma_pd = AMZN_sma_pd[ pd.to_datetime( AMZN_sma_pd['time'] , format = '%Y-%m-%dT%H:%M:%S.%f') >= datetime.now() - timedelta(minutes=10) ]\n",
    "    FB_sma_pd = FB_sma_pd[ pd.to_datetime( FB_sma_pd['time'] , format = '%Y-%m-%dT%H:%M:%S.%f') >= datetime.now() - timedelta(minutes=10) ]\n",
    "    \n",
    "    \n",
    "    #print(type(min_5_window + timedelta(minutes=5) ))\n",
    "    #print(min_5_window + timedelta(minutes=5) )\n",
    "        \n",
    "    if datetime.now() >= ( min_5_window + timedelta(minutes=5) ):\n",
    "        apple = AAPL_sma_pd[\"cost\"].mean()\n",
    "        google = GOOG_sma_pd[\"cost\"].mean()\n",
    "        tesla = TSLA_sma_pd[\"cost\"].mean()\n",
    "        amazon = AMZN_sma_pd[\"cost\"].mean()\n",
    "        facebook = FB_sma_pd[\"cost\"].mean()\n",
    "        \n",
    "        if math.isnan(apple):\n",
    "            apple = 0\n",
    "        if math.isnan(google):\n",
    "            google = 0\n",
    "        if math.isnan(tesla):\n",
    "            tesla = 0\n",
    "        if math.isnan(amazon):\n",
    "            amazon = 0\n",
    "        if math.isnan(facebook):\n",
    "            facebook = 0\n",
    "        \n",
    "        print_sma(apple, google, tesla, amazon, facebook)\n",
    "        sma_price(apple, google, tesla, amazon, facebook)\n",
    "        min_5_window = datetime.now()\n",
    "        "
   ]
  },
  {
   "cell_type": "code",
   "execution_count": null,
   "id": "e510af95-aae0-4bc2-8c4f-539b82499ab4",
   "metadata": {},
   "outputs": [],
   "source": []
  }
 ],
 "metadata": {
  "kernelspec": {
   "display_name": "Python 3 (ipykernel)",
   "language": "python",
   "name": "python3"
  },
  "language_info": {
   "codemirror_mode": {
    "name": "ipython",
    "version": 3
   },
   "file_extension": ".py",
   "mimetype": "text/x-python",
   "name": "python",
   "nbconvert_exporter": "python",
   "pygments_lexer": "ipython3",
   "version": "3.8.13"
  }
 },
 "nbformat": 4,
 "nbformat_minor": 5
}
